{
 "cells": [
  {
   "cell_type": "markdown",
   "id": "b35779e1",
   "metadata": {},
   "source": [
    "### KR-WordRank\n",
    "\n",
    "https://lovit.github.io/nlp/2018/04/16/krwordrank/"
   ]
  },
  {
   "cell_type": "code",
   "execution_count": null,
   "id": "3773f3dc",
   "metadata": {
    "scrolled": false
   },
   "outputs": [],
   "source": [
    "!pip install krwordrank"
   ]
  },
  {
   "cell_type": "code",
   "execution_count": null,
   "id": "a3dd527a",
   "metadata": {
    "scrolled": false
   },
   "outputs": [],
   "source": [
    "!pip install kiwipiepy"
   ]
  },
  {
   "cell_type": "code",
   "execution_count": null,
   "id": "c284358b",
   "metadata": {
    "scrolled": true
   },
   "outputs": [],
   "source": [
    "import pandas as pd\n",
    "\n",
    "naver_df = pd.read_csv('naver.csv')\n",
    "naver_df.head()"
   ]
  },
  {
   "cell_type": "code",
   "execution_count": null,
   "id": "5dd2e1b9",
   "metadata": {},
   "outputs": [],
   "source": [
    "from kiwipiepy import Kiwi\n",
    "\n",
    "def text2sentences_kiwi(text):  \n",
    "    kiwi = Kiwi()\n",
    "    kiwi_sentences = kiwi.split_into_sents(text)  #text일 때 문장별로 리스트 만듦\n",
    "    sentences = []\n",
    "    for kiwi_sentence in kiwi_sentences:\n",
    "        sentences.append(kiwi_sentence.text)\n",
    "    return sentences"
   ]
  },
  {
   "cell_type": "code",
   "execution_count": null,
   "id": "e5c9e1ab",
   "metadata": {
    "scrolled": true
   },
   "outputs": [],
   "source": [
    "from krwordrank.hangle import normalize\n",
    "from krwordrank.word import KRWordRank\n",
    "\n",
    "words = []\n",
    "ranks = []\n",
    "\n",
    "for i, row in naver_df.iterrows():\n",
    "    \n",
    "    temp_words = []\n",
    "    temp_ranks = []\n",
    "    \n",
    "    sentences = text2sentences_kiwi(row['Article'])\n",
    "    sentences = [normalize(sentence, english=True, number=True) for sentence in sentences]\n",
    "    \n",
    "    wordrank_extractor = KRWordRank(\n",
    "        min_count = 5, # 단어의 최소 출현 빈도수 (그래프 생성 시)\n",
    "        max_length = 10, # 단어의 최대 길이\n",
    "        verbose = True\n",
    "    )\n",
    "\n",
    "    beta = 0.85    # PageRank의 decaying factor beta\n",
    "    max_iter = 10\n",
    "    \n",
    "    try:\n",
    "        keywords, rank, graph = wordrank_extractor.extract(sentences, beta, max_iter)\n",
    "\n",
    "    except ValueError as v:\n",
    "        print('idx: {}번째 기사는 반복되는 단어가 없습니다.\\n'.format(i))\n",
    "        words.append(temp_words)\n",
    "        ranks.append(temp_ranks)\n",
    "    else:\n",
    "        print('idx - ', i)\n",
    "        for word, r in sorted(keywords.items(), key=lambda x:x[1], reverse=True)[:5]:\n",
    "            print('%8s:\\t%.4f' % (word, r))\n",
    "            temp_words.append(word)\n",
    "            temp_ranks.append(r)\n",
    "            \n",
    "        print('')\n",
    "        words.append(temp_words)\n",
    "        ranks.append(temp_ranks)"
   ]
  },
  {
   "cell_type": "code",
   "execution_count": null,
   "id": "78161850",
   "metadata": {},
   "outputs": [],
   "source": [
    "import operator\n",
    "\n",
    "count_dict = {}\n",
    "\n",
    "for words in rank_words:\n",
    "    for word in words:\n",
    "        if word in count_dict:\n",
    "            count_dict[word] += 1\n",
    "        else:\n",
    "            count_dict[word] = 1\n",
    "            \n",
    "sorted_words = sorted(count_dict.items(), key=operator.itemgetter(1), reverse=True)"
   ]
  },
  {
   "cell_type": "code",
   "execution_count": null,
   "id": "6ec1005a",
   "metadata": {},
   "outputs": [],
   "source": [
    "import pickle\n",
    "\n",
    "with open('words.pickle', 'wb') as f1:\n",
    "    pickle.dump(words, f1)"
   ]
  },
  {
   "cell_type": "code",
   "execution_count": null,
   "id": "b5a32024",
   "metadata": {},
   "outputs": [],
   "source": [
    "with open('ranks.pickle', 'wb') as f2:\n",
    "    pickle.dump(ranks, f2)"
   ]
  }
 ],
 "metadata": {
  "kernelspec": {
   "display_name": "Python 3 (ipykernel)",
   "language": "python",
   "name": "python3"
  },
  "language_info": {
   "codemirror_mode": {
    "name": "ipython",
    "version": 3
   },
   "file_extension": ".py",
   "mimetype": "text/x-python",
   "name": "python",
   "nbconvert_exporter": "python",
   "pygments_lexer": "ipython3",
   "version": "3.8.10"
  }
 },
 "nbformat": 4,
 "nbformat_minor": 5
}
