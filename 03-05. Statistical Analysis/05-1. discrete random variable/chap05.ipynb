{
  "cells": [
    {
      "cell_type": "code",
      "source": [
        "from google.colab import drive\n",
        "drive.mount('/content/gdrive/')"
      ],
      "metadata": {
        "colab": {
          "base_uri": "https://localhost:8080/"
        },
        "id": "Q_apIOiiazmq",
        "outputId": "52524e7d-84b0-4dc7-9986-2ca02346c755"
      },
      "execution_count": 1,
      "outputs": [
        {
          "output_type": "stream",
          "name": "stdout",
          "text": [
            "Mounted at /content/gdrive/\n"
          ]
        }
      ]
    },
    {
      "cell_type": "markdown",
      "metadata": {
        "id": "M84xLTKJawa9"
      },
      "source": [
        "# 이산형 확률분포"
      ]
    },
    {
      "cell_type": "markdown",
      "metadata": {
        "id": "6NkPsClfawa_"
      },
      "source": [
        "## 1차원 이산형 확률분포"
      ]
    },
    {
      "cell_type": "code",
      "execution_count": 2,
      "metadata": {
        "ExecuteTime": {
          "end_time": "2018-08-07T04:43:23.771523Z",
          "start_time": "2018-08-07T04:43:23.575758Z"
        },
        "id": "1kcuhERLawa_"
      },
      "outputs": [],
      "source": [
        "import numpy as np\n",
        "import matplotlib.pyplot as plt\n",
        "\n",
        "%precision 3\n",
        "%matplotlib inline"
      ]
    },
    {
      "cell_type": "markdown",
      "metadata": {
        "id": "1YRrym1iawbA"
      },
      "source": [
        "### 1차원 이산확률분포의 정의"
      ]
    },
    {
      "cell_type": "code",
      "execution_count": 3,
      "metadata": {
        "ExecuteTime": {
          "end_time": "2018-08-07T04:43:23.775156Z",
          "start_time": "2018-08-07T04:43:23.772847Z"
        },
        "id": "Xsub2eq9awbA"
      },
      "outputs": [],
      "source": [
        "x_set = np.array([1, 2, 3, 4, 5, 6])"
      ]
    },
    {
      "cell_type": "code",
      "execution_count": 4,
      "metadata": {
        "ExecuteTime": {
          "end_time": "2018-08-07T04:43:23.779344Z",
          "start_time": "2018-08-07T04:43:23.776685Z"
        },
        "id": "8rldwBT0awbA"
      },
      "outputs": [],
      "source": [
        "def f(x):\n",
        "    if x in x_set:\n",
        "        return x / 21\n",
        "    else:\n",
        "        return 0"
      ]
    },
    {
      "cell_type": "code",
      "execution_count": 5,
      "metadata": {
        "ExecuteTime": {
          "end_time": "2018-08-07T04:43:23.783380Z",
          "start_time": "2018-08-07T04:43:23.780556Z"
        },
        "id": "pHT1dz2SawbA"
      },
      "outputs": [],
      "source": [
        "X = [x_set, f]"
      ]
    },
    {
      "cell_type": "code",
      "execution_count": 6,
      "metadata": {
        "ExecuteTime": {
          "end_time": "2018-08-07T04:43:23.795835Z",
          "start_time": "2018-08-07T04:43:23.784515Z"
        },
        "colab": {
          "base_uri": "https://localhost:8080/"
        },
        "id": "BcaVx__EawbB",
        "outputId": "5cdc1606-9a66-46cb-bc7f-c106836c979b"
      },
      "outputs": [
        {
          "output_type": "execute_result",
          "data": {
            "text/plain": [
              "{1: 0.048, 2: 0.095, 3: 0.143, 4: 0.190, 5: 0.238, 6: 0.286}"
            ]
          },
          "metadata": {},
          "execution_count": 6
        }
      ],
      "source": [
        "# 확률 p_k를 구한다\n",
        "prob = np.array([f(x_k) for x_k in x_set])\n",
        "# x_k와 p_k의 대응을 사전식으로 표시\n",
        "dict(zip(x_set, prob))"
      ]
    },
    {
      "cell_type": "code",
      "execution_count": 7,
      "metadata": {
        "ExecuteTime": {
          "end_time": "2018-08-07T04:43:23.911086Z",
          "start_time": "2018-08-07T04:43:23.796855Z"
        },
        "colab": {
          "base_uri": "https://localhost:8080/",
          "height": 392
        },
        "id": "Se6hfb2wawbC",
        "outputId": "e61c7b32-717e-4ab6-bab6-095821fb6556"
      },
      "outputs": [
        {
          "output_type": "display_data",
          "data": {
            "text/plain": [
              "<Figure size 720x432 with 1 Axes>"
            ],
            "image/png": "[encoded data removed]"
          },
          "metadata": {
            "needs_background": "light"
          }
        }
      ],
      "source": [
        "fig = plt.figure(figsize=(10, 6))\n",
        "ax = fig.add_subplot(111)\n",
        "ax.bar(x_set, prob)\n",
        "ax.set_xlabel('value')\n",
        "ax.set_ylabel('probability')\n",
        "\n",
        "plt.show()"
      ]
    },
    {
      "cell_type": "code",
      "execution_count": 8,
      "metadata": {
        "ExecuteTime": {
          "end_time": "2018-08-07T04:43:23.915961Z",
          "start_time": "2018-08-07T04:43:23.912531Z"
        },
        "colab": {
          "base_uri": "https://localhost:8080/"
        },
        "id": "ISG5sz7MawbC",
        "outputId": "b67e74fa-4964-4a4a-a7cc-afaa4d9eecba"
      },
      "outputs": [
        {
          "output_type": "execute_result",
          "data": {
            "text/plain": [
              "True"
            ]
          },
          "metadata": {},
          "execution_count": 8
        }
      ],
      "source": [
        "np.all(prob >= 0)"
      ]
    },
    {
      "cell_type": "code",
      "execution_count": 9,
      "metadata": {
        "ExecuteTime": {
          "end_time": "2018-08-07T04:43:23.920725Z",
          "start_time": "2018-08-07T04:43:23.917448Z"
        },
        "colab": {
          "base_uri": "https://localhost:8080/"
        },
        "id": "aPGjU6F3awbD",
        "outputId": "decd7747-2a05-42f9-ec84-e8368f630eb0"
      },
      "outputs": [
        {
          "output_type": "execute_result",
          "data": {
            "text/plain": [
              "1.000"
            ]
          },
          "metadata": {},
          "execution_count": 9
        }
      ],
      "source": [
        "np.sum(prob)"
      ]
    },
    {
      "cell_type": "markdown",
      "source": [
        "주사위 눈이 x 이하가 될 확률"
      ],
      "metadata": {
        "id": "mM4BlBW6dUy0"
      }
    },
    {
      "cell_type": "code",
      "execution_count": 10,
      "metadata": {
        "ExecuteTime": {
          "end_time": "2018-08-07T04:43:23.924982Z",
          "start_time": "2018-08-07T04:43:23.922208Z"
        },
        "id": "AJAyBcspawbD"
      },
      "outputs": [],
      "source": [
        "def F(x):\n",
        "    return np.sum([f(x_k) for x_k in x_set if x_k <= x])"
      ]
    },
    {
      "cell_type": "code",
      "execution_count": 11,
      "metadata": {
        "ExecuteTime": {
          "end_time": "2018-08-07T04:43:23.935804Z",
          "start_time": "2018-08-07T04:43:23.926354Z"
        },
        "colab": {
          "base_uri": "https://localhost:8080/"
        },
        "id": "qvyu1uJSawbD",
        "outputId": "0ebd6f6f-d172-475e-dcf3-d5435c699840"
      },
      "outputs": [
        {
          "output_type": "execute_result",
          "data": {
            "text/plain": [
              "0.286"
            ]
          },
          "metadata": {},
          "execution_count": 11
        }
      ],
      "source": [
        "F(3)"
      ]
    },
    {
      "cell_type": "markdown",
      "source": [
        "1차원 이산형 확률 변수 <br>\n",
        "y = 2x + 3"
      ],
      "metadata": {
        "id": "Txv4Rx-TdbvX"
      }
    },
    {
      "cell_type": "markdown",
      "source": [
        "x_set = [1, 2, 3, 4, 5, 6]"
      ],
      "metadata": {
        "id": "2LKa91lfgPWb"
      }
    },
    {
      "cell_type": "code",
      "execution_count": 12,
      "metadata": {
        "ExecuteTime": {
          "end_time": "2018-08-06T11:25:17.697148Z",
          "start_time": "2018-08-06T11:25:17.692368Z"
        },
        "colab": {
          "base_uri": "https://localhost:8080/"
        },
        "id": "tSecXFjKawbD",
        "outputId": "99f014a8-88d2-43b0-cbc8-42d5931bca14"
      },
      "outputs": [
        {
          "output_type": "execute_result",
          "data": {
            "text/plain": [
              "{5: 0.048, 7: 0.095, 9: 0.143, 11: 0.190, 13: 0.238, 15: 0.286}"
            ]
          },
          "metadata": {},
          "execution_count": 12
        }
      ],
      "source": [
        "y_set = np.array([2 * x_k + 3 for x_k in x_set])\n",
        "prob = np.array([f(x_k) for x_k in x_set])\n",
        "dict(zip(y_set, prob))"
      ]
    },
    {
      "cell_type": "markdown",
      "metadata": {
        "id": "XWvK4FVcawbD"
      },
      "source": [
        "### 1차원 이산형 확률변수의 지표"
      ]
    },
    {
      "cell_type": "markdown",
      "metadata": {
        "id": "E3ZkpB0HawbE"
      },
      "source": [
        "#### 기댓값\n",
        "![스크린샷 2022-04-20 오후 2 46 59](https://user-images.githubusercontent.com/76269316/164159016-7e1294dd-8aa2-4cfd-8519-7623fb2085ba.png)\n"
      ]
    },
    {
      "cell_type": "code",
      "execution_count": 13,
      "metadata": {
        "ExecuteTime": {
          "end_time": "2018-08-06T11:25:17.701479Z",
          "start_time": "2018-08-06T11:25:17.698316Z"
        },
        "colab": {
          "base_uri": "https://localhost:8080/"
        },
        "id": "4n4L-yJ8awbE",
        "outputId": "e8fbfef7-5b62-449e-fc47-4c31319b3bd0"
      },
      "outputs": [
        {
          "output_type": "execute_result",
          "data": {
            "text/plain": [
              "4.333"
            ]
          },
          "metadata": {},
          "execution_count": 13
        }
      ],
      "source": [
        "np.sum([x_k * f(x_k) for x_k in x_set])"
      ]
    },
    {
      "cell_type": "markdown",
      "source": [
        "기댓값 = 확률 변수의 평균 <br>\n",
        "주사위를 100만번 굴린 실현값의 평균"
      ],
      "metadata": {
        "id": "W1e1Tx-ChJH6"
      }
    },
    {
      "cell_type": "code",
      "execution_count": 14,
      "metadata": {
        "ExecuteTime": {
          "end_time": "2018-08-06T11:25:17.737094Z",
          "start_time": "2018-08-06T11:25:17.702621Z"
        },
        "colab": {
          "base_uri": "https://localhost:8080/"
        },
        "id": "dzQNwjbrawbE",
        "outputId": "3e6096e1-049a-437b-8eb6-118e51a5042e"
      },
      "outputs": [
        {
          "output_type": "execute_result",
          "data": {
            "text/plain": [
              "4.333"
            ]
          },
          "metadata": {},
          "execution_count": 14
        }
      ],
      "source": [
        "sample = np.random.choice(x_set, int(1e6), p=prob)  # 1,000,000개 복원 추출\n",
        "np.mean(sample)"
      ]
    },
    {
      "cell_type": "markdown",
      "source": [
        "g에 아무것도 지정하지 않을 경우 확률변수 X의 기댓값이 구해짐 <br>\n",
        "![스크린샷 2022-04-20 오후 2 59 26](https://user-images.githubusercontent.com/76269316/164160622-5ed61f6c-e130-4596-a77c-85347299f572.png)\n"
      ],
      "metadata": {
        "id": "XrJ_EaJVh5AK"
      }
    },
    {
      "cell_type": "code",
      "execution_count": 15,
      "metadata": {
        "ExecuteTime": {
          "end_time": "2018-08-06T11:25:17.740722Z",
          "start_time": "2018-08-06T11:25:17.738306Z"
        },
        "id": "OdeKpQ0_awbE"
      },
      "outputs": [],
      "source": [
        "def E(X, g=lambda x: x):\n",
        "    x_set, f = X\n",
        "    return np.sum([g(x_k) * f(x_k) for x_k in x_set])"
      ]
    },
    {
      "cell_type": "code",
      "execution_count": 16,
      "metadata": {
        "ExecuteTime": {
          "end_time": "2018-08-06T11:25:17.745675Z",
          "start_time": "2018-08-06T11:25:17.741807Z"
        },
        "colab": {
          "base_uri": "https://localhost:8080/"
        },
        "id": "6n296RDvawbE",
        "outputId": "822d9b2a-f179-4cad-8ee0-a412955a1ae2"
      },
      "outputs": [
        {
          "output_type": "execute_result",
          "data": {
            "text/plain": [
              "4.333"
            ]
          },
          "metadata": {},
          "execution_count": 16
        }
      ],
      "source": [
        "E(X)"
      ]
    },
    {
      "cell_type": "code",
      "execution_count": 17,
      "metadata": {
        "ExecuteTime": {
          "end_time": "2018-08-06T11:25:17.750269Z",
          "start_time": "2018-08-06T11:25:17.746911Z"
        },
        "colab": {
          "base_uri": "https://localhost:8080/"
        },
        "id": "Vr_UqUT1awbF",
        "outputId": "c1f28c1f-d954-4b2b-8f94-6fa7094e1c50"
      },
      "outputs": [
        {
          "output_type": "execute_result",
          "data": {
            "text/plain": [
              "11.667"
            ]
          },
          "metadata": {},
          "execution_count": 17
        }
      ],
      "source": [
        "E(X, g=lambda x: 2*x + 3)"
      ]
    },
    {
      "cell_type": "markdown",
      "source": [
        "E(2X+3) = 2E(X) + 3"
      ],
      "metadata": {
        "id": "9ZA1c-FmkOrz"
      }
    },
    {
      "cell_type": "code",
      "execution_count": 18,
      "metadata": {
        "ExecuteTime": {
          "end_time": "2018-08-06T11:25:17.754447Z",
          "start_time": "2018-08-06T11:25:17.751181Z"
        },
        "colab": {
          "base_uri": "https://localhost:8080/"
        },
        "id": "algAgyflawbF",
        "outputId": "87c16c46-ce05-4820-e43d-c423d7abd779"
      },
      "outputs": [
        {
          "output_type": "execute_result",
          "data": {
            "text/plain": [
              "11.667"
            ]
          },
          "metadata": {},
          "execution_count": 18
        }
      ],
      "source": [
        "2 * E(X) + 3"
      ]
    },
    {
      "cell_type": "markdown",
      "metadata": {
        "id": "Gpt9UK11awbF"
      },
      "source": [
        "#### 분산\n",
        "![스크린샷 2022-04-20 오후 3 04 52](https://user-images.githubusercontent.com/76269316/164161325-31018d81-c7f2-47bd-8c84-2a398fe147b5.png)"
      ]
    },
    {
      "cell_type": "code",
      "execution_count": 19,
      "metadata": {
        "ExecuteTime": {
          "end_time": "2018-08-06T11:25:17.759274Z",
          "start_time": "2018-08-06T11:25:17.755396Z"
        },
        "colab": {
          "base_uri": "https://localhost:8080/"
        },
        "id": "V_qOPHInawbF",
        "outputId": "1c3bc831-16f5-4ca2-d593-1216da1b6c92"
      },
      "outputs": [
        {
          "output_type": "execute_result",
          "data": {
            "text/plain": [
              "2.222"
            ]
          },
          "metadata": {},
          "execution_count": 19
        }
      ],
      "source": [
        "mean = E(X)\n",
        "np.sum([(x_k-mean)**2 * f(x_k) for x_k in x_set])"
      ]
    },
    {
      "cell_type": "markdown",
      "source": [
        "\n",
        "\n",
        "```\n",
        "def E(X, g=lambda x: x):\n",
        "    x_set, f = X\n",
        "    return np.sum([g(x_k) * f(x_k) for x_k in x_set])\n",
        "```\n",
        "\n"
      ],
      "metadata": {
        "id": "M3mjCl0KlZVe"
      }
    },
    {
      "cell_type": "code",
      "execution_count": 20,
      "metadata": {
        "ExecuteTime": {
          "end_time": "2018-08-06T11:25:17.763465Z",
          "start_time": "2018-08-06T11:25:17.760361Z"
        },
        "id": "zCe4ycgPawbF"
      },
      "outputs": [],
      "source": [
        "def V(X, g=lambda x: x):\n",
        "    x_set, f = X\n",
        "    mean = E(X, g)\n",
        "    return np.sum([(g(x_k)-mean)**2 * f(x_k) for x_k in x_set])"
      ]
    },
    {
      "cell_type": "code",
      "execution_count": 21,
      "metadata": {
        "ExecuteTime": {
          "end_time": "2018-08-06T11:25:17.768386Z",
          "start_time": "2018-08-06T11:25:17.764699Z"
        },
        "colab": {
          "base_uri": "https://localhost:8080/"
        },
        "id": "dcgaFC87awbF",
        "outputId": "6860b9c9-d10b-4944-def0-2a73cffc1eb3"
      },
      "outputs": [
        {
          "output_type": "execute_result",
          "data": {
            "text/plain": [
              "2.222"
            ]
          },
          "metadata": {},
          "execution_count": 21
        }
      ],
      "source": [
        "V(X)"
      ]
    },
    {
      "cell_type": "markdown",
      "source": [
        "![스크린샷 2022-04-20 오후 3 09 09](https://user-images.githubusercontent.com/76269316/164161834-69af21d3-7a34-4e7f-98c0-52636c9cac89.png)\n",
        "\n",
        "<br>\n",
        "\n",
        "<img width=\"286\" alt=\"스크린샷 2022-04-21 오전 9 21 33\" src=\"https://user-images.githubusercontent.com/76269316/164345303-ba24be7a-5732-4cee-b0d3-9d14edcd765c.png\">"
      ],
      "metadata": {
        "id": "PAZBcUM8lsWu"
      }
    },
    {
      "cell_type": "code",
      "execution_count": 22,
      "metadata": {
        "ExecuteTime": {
          "end_time": "2018-08-06T11:25:17.773328Z",
          "start_time": "2018-08-06T11:25:17.769350Z"
        },
        "colab": {
          "base_uri": "https://localhost:8080/"
        },
        "id": "GSGU3y8YawbF",
        "outputId": "5a4ac1ff-3dba-4174-8a2d-95c3c9f5a3a4"
      },
      "outputs": [
        {
          "output_type": "execute_result",
          "data": {
            "text/plain": [
              "8.889"
            ]
          },
          "metadata": {},
          "execution_count": 22
        }
      ],
      "source": [
        "V(X, lambda x: 2*x + 3)"
      ]
    },
    {
      "cell_type": "code",
      "execution_count": 23,
      "metadata": {
        "ExecuteTime": {
          "end_time": "2018-08-06T11:25:17.778674Z",
          "start_time": "2018-08-06T11:25:17.774588Z"
        },
        "colab": {
          "base_uri": "https://localhost:8080/"
        },
        "id": "3QkGS2mtawbF",
        "outputId": "e01232c1-fed9-4994-f592-e1ce1e285566"
      },
      "outputs": [
        {
          "output_type": "execute_result",
          "data": {
            "text/plain": [
              "8.889"
            ]
          },
          "metadata": {},
          "execution_count": 23
        }
      ],
      "source": [
        "2**2 * V(X)"
      ]
    },
    {
      "cell_type": "markdown",
      "metadata": {
        "id": "rVRnmKtkawbF"
      },
      "source": [
        "## 2차원 이산형 확률분포"
      ]
    },
    {
      "cell_type": "markdown",
      "metadata": {
        "id": "W6cl4KRQawbF"
      },
      "source": [
        "### 2차원 이산형 확률분포의 정의"
      ]
    },
    {
      "cell_type": "markdown",
      "source": [
        "확률변수 (X, Y)의 움직임을 동시에 고려한 분포 <br>\n",
        "ex) 불공정한 주사위 A와 B가 있을 때, A와 B의 눈을 더한 것을 X, A의 눈을 Y로 하는 2차원 확률 분포"
      ],
      "metadata": {
        "id": "Vp4cWtJ-l1Vr"
      }
    },
    {
      "cell_type": "code",
      "execution_count": 24,
      "metadata": {
        "ExecuteTime": {
          "end_time": "2018-08-06T11:25:17.783029Z",
          "start_time": "2018-08-06T11:25:17.780291Z"
        },
        "id": "ahgEggBeawbG"
      },
      "outputs": [],
      "source": [
        "x_set = np.arange(2, 13)\n",
        "y_set = np.arange(1, 7)"
      ]
    },
    {
      "cell_type": "markdown",
      "source": [
        "\n",
        "A와 B의 눈을 뺀 것을 X, A의 눈을 Y로 하는 2차원 확률 분포\n",
        "```\n",
        "def f_xy(x, y):\n",
        "    if 1 <= y <= 6 and 1 <= x + y <= 6:\n",
        "        return y * (x+y) / 441\n",
        "    else:\n",
        "        return 0\n",
        "```\n",
        "\n"
      ],
      "metadata": {
        "id": "KesO6kzkhPRX"
      }
    },
    {
      "cell_type": "code",
      "execution_count": 25,
      "metadata": {
        "ExecuteTime": {
          "end_time": "2018-08-06T11:25:17.788516Z",
          "start_time": "2018-08-06T11:25:17.784611Z"
        },
        "id": "CHS6NkkEawbG"
      },
      "outputs": [],
      "source": [
        "def f_XY(x, y):\n",
        "    if 1 <= y <=6 and 1 <= x - y <= 6:\n",
        "        return y * (x-y) / 441  # X-A의 눈이 나올 확률 * \bA의 눈이 나올 확률\n",
        "    else:\n",
        "        return 0"
      ]
    },
    {
      "cell_type": "code",
      "execution_count": 26,
      "metadata": {
        "ExecuteTime": {
          "end_time": "2018-08-06T11:25:17.793487Z",
          "start_time": "2018-08-06T11:25:17.789901Z"
        },
        "id": "msZwzQeUawbG"
      },
      "outputs": [],
      "source": [
        "XY = [x_set, y_set, f_XY]"
      ]
    },
    {
      "cell_type": "code",
      "execution_count": 27,
      "metadata": {
        "ExecuteTime": {
          "end_time": "2018-08-06T11:25:17.932737Z",
          "start_time": "2018-08-06T11:25:17.794592Z"
        },
        "scrolled": false,
        "colab": {
          "base_uri": "https://localhost:8080/",
          "height": 489
        },
        "id": "u_hFFa3oawbG",
        "outputId": "3df9613e-e424-4a45-d977-82719eaa4633"
      },
      "outputs": [
        {
          "output_type": "display_data",
          "data": {
            "text/plain": [
              "<Figure size 720x576 with 2 Axes>"
            ],
            "image/png": "[encoded data removed]"
          },
          "metadata": {
            "needs_background": "light"
          }
        }
      ],
      "source": [
        "prob = np.array([[f_XY(x_i, y_j) for y_j in y_set] for x_i in x_set])  # 안쪽 for loop (for y_j in y_set) 먼저 실행\n",
        "\n",
        "fig = plt.figure(figsize=(10, 8))\n",
        "ax = fig.add_subplot(111)\n",
        "\n",
        "c = ax.pcolor(prob)\n",
        "ax.set_xticks(np.arange(prob.shape[1]) + 0.5, minor=False)  # minor ticks를 그리지 않음\n",
        "ax.set_yticks(np.arange(prob.shape[0]) + 0.5, minor=False)\n",
        "ax.set_xticklabels(np.arange(1, 7), minor=False)\n",
        "ax.set_yticklabels(np.arange(2, 13), minor=False)\n",
        "# y축을 내림차순의 숫자가 되게 하여, 위 아래를 역전시킨다\n",
        "ax.invert_yaxis()\n",
        "# x축의 눈금을 그래프 위쪽에 표시\n",
        "ax.xaxis.tick_top()\n",
        "fig.colorbar(c, ax=ax)\n",
        "plt.show()"
      ]
    },
    {
      "cell_type": "code",
      "execution_count": 28,
      "metadata": {
        "ExecuteTime": {
          "end_time": "2018-08-06T11:25:17.937185Z",
          "start_time": "2018-08-06T11:25:17.934188Z"
        },
        "colab": {
          "base_uri": "https://localhost:8080/"
        },
        "id": "rtUA9OApawbI",
        "outputId": "123f3783-6deb-4b47-9318-80d095c1f826"
      },
      "outputs": [
        {
          "output_type": "execute_result",
          "data": {
            "text/plain": [
              "True"
            ]
          },
          "metadata": {},
          "execution_count": 28
        }
      ],
      "source": [
        "np.all(prob >= 0)"
      ]
    },
    {
      "cell_type": "code",
      "execution_count": 29,
      "metadata": {
        "ExecuteTime": {
          "end_time": "2018-08-06T11:25:17.942400Z",
          "start_time": "2018-08-06T11:25:17.938424Z"
        },
        "colab": {
          "base_uri": "https://localhost:8080/"
        },
        "id": "S24B_0d0awbI",
        "outputId": "19d7df87-d822-45d1-d02f-78123562813c"
      },
      "outputs": [
        {
          "output_type": "execute_result",
          "data": {
            "text/plain": [
              "1.000"
            ]
          },
          "metadata": {},
          "execution_count": 29
        }
      ],
      "source": [
        "np.sum(prob)"
      ]
    },
    {
      "cell_type": "markdown",
      "source": [
        "![스크린샷 2022-04-20 오후 3 30 20](https://user-images.githubusercontent.com/76269316/164164700-edd865ba-11c0-4e6a-a8cf-86860933f5fe.png)\n"
      ],
      "metadata": {
        "id": "DRWAUOuSqigI"
      }
    },
    {
      "cell_type": "markdown",
      "source": [
        "주변확률분포 <br>\n",
        "개별 확률변수값을 알고 싶을 때"
      ],
      "metadata": {
        "id": "A01quRWPq22e"
      }
    },
    {
      "cell_type": "code",
      "execution_count": 30,
      "metadata": {
        "ExecuteTime": {
          "end_time": "2018-08-06T11:25:17.948437Z",
          "start_time": "2018-08-06T11:25:17.943951Z"
        },
        "id": "LfsHDTQwawbI"
      },
      "outputs": [],
      "source": [
        "def f_X(x):  # 행을 더한 값\n",
        "    return np.sum([f_XY(x, y_k) for y_k in y_set])"
      ]
    },
    {
      "cell_type": "code",
      "execution_count": 31,
      "metadata": {
        "ExecuteTime": {
          "end_time": "2018-08-06T11:25:17.953066Z",
          "start_time": "2018-08-06T11:25:17.949777Z"
        },
        "id": "l0dUy733awbI"
      },
      "outputs": [],
      "source": [
        "def f_Y(y):  # 열을 더한 값\n",
        "    return np.sum([f_XY(x_k, y) for x_k in x_set])"
      ]
    },
    {
      "cell_type": "code",
      "execution_count": 32,
      "metadata": {
        "ExecuteTime": {
          "end_time": "2018-08-06T11:25:17.957088Z",
          "start_time": "2018-08-06T11:25:17.954497Z"
        },
        "id": "LFzb7qinawbI"
      },
      "outputs": [],
      "source": [
        "X = [x_set, f_X]\n",
        "Y = [y_set, f_Y]"
      ]
    },
    {
      "cell_type": "markdown",
      "source": [
        "\n",
        "\n",
        "```\n",
        "x_set = np.arange(2, 13)\n",
        "y_set = np.arange(1, 7)\n",
        "```\n",
        "\n"
      ],
      "metadata": {
        "id": "T4bVz1BKphd0"
      }
    },
    {
      "cell_type": "code",
      "execution_count": 33,
      "metadata": {
        "ExecuteTime": {
          "end_time": "2018-08-06T11:25:18.155840Z",
          "start_time": "2018-08-06T11:25:17.958366Z"
        },
        "colab": {
          "base_uri": "https://localhost:8080/",
          "height": 296
        },
        "id": "onI7AFDGawbI",
        "outputId": "c33518d3-539f-40c7-d4f3-e0468d5dd63a"
      },
      "outputs": [
        {
          "output_type": "display_data",
          "data": {
            "text/plain": [
              "<Figure size 864x288 with 2 Axes>"
            ],
            "image/png": "[encoded data removed]"
          },
          "metadata": {
            "needs_background": "light"
          }
        }
      ],
      "source": [
        "prob_x = np.array([f_X(x_k) for x_k in x_set])\n",
        "prob_y = np.array([f_Y(y_k) for y_k in y_set])\n",
        "\n",
        "fig = plt.figure(figsize=(12, 4))\n",
        "ax1 = fig.add_subplot(121)\n",
        "ax2 = fig.add_subplot(122)\n",
        "\n",
        "ax1.bar(x_set, prob_x)\n",
        "ax1.set_title('X_marginal probability distribution')\n",
        "ax1.set_xlabel('X_value')\n",
        "ax1.set_ylabel('probability')\n",
        "ax1.set_xticks(x_set)\n",
        "\n",
        "ax2.bar(y_set, prob_y)\n",
        "ax2.set_title('Y_marginal probability distribution')\n",
        "ax2.set_xlabel('Y_value')\n",
        "ax2.set_ylabel('probability')\n",
        "\n",
        "plt.show()"
      ]
    },
    {
      "cell_type": "markdown",
      "metadata": {
        "id": "URn9Y6glawbJ"
      },
      "source": [
        "### 2차원 이산형 확률분포의 지표"
      ]
    },
    {
      "cell_type": "markdown",
      "source": [
        "기댓값 <br>\n",
        "![스크린샷 2022-04-20 오후 3 33 45](https://user-images.githubusercontent.com/76269316/164165267-84741aac-df0e-4c4b-a3bf-a6225a483977.png)"
      ],
      "metadata": {
        "id": "gWvK7OyLrSct"
      }
    },
    {
      "cell_type": "code",
      "execution_count": 34,
      "metadata": {
        "ExecuteTime": {
          "end_time": "2018-08-06T11:25:18.160597Z",
          "start_time": "2018-08-06T11:25:18.157222Z"
        },
        "colab": {
          "base_uri": "https://localhost:8080/"
        },
        "id": "-ZA3gYOqawbJ",
        "outputId": "c633bf0c-1acc-4e14-8fd3-9c9316af868d"
      },
      "outputs": [
        {
          "output_type": "execute_result",
          "data": {
            "text/plain": [
              "8.667"
            ]
          },
          "metadata": {},
          "execution_count": 34
        }
      ],
      "source": [
        "np.sum([x_i * f_XY(x_i, y_j) for x_i in x_set for y_j in y_set])"
      ]
    },
    {
      "cell_type": "markdown",
      "source": [
        "\n",
        "\n",
        "```\n",
        "x_set = np.arange(2, 13)\n",
        "y_set = np.arange(1, 7)\n",
        "\n",
        "def f_XY(x, y):\n",
        "    if 1 <= y <=6 and 1 <= x - y <= 6:\n",
        "        return y * (x-y) / 441  # X-A의 눈이 나올 확률 * \bA의 눈이 나올 확률\n",
        "    else:\n",
        "        return 0\n",
        "        \n",
        "XY = [x_set, y_set, f_XY]\n",
        "```\n",
        "\n"
      ],
      "metadata": {
        "id": "O6zEcL02sBce"
      }
    },
    {
      "cell_type": "code",
      "execution_count": 35,
      "metadata": {
        "ExecuteTime": {
          "end_time": "2018-08-06T11:25:18.165682Z",
          "start_time": "2018-08-06T11:25:18.161951Z"
        },
        "id": "EZFD6nOLawbJ"
      },
      "outputs": [],
      "source": [
        "def E(XY, g):\n",
        "    x_set, y_set, f_XY = XY\n",
        "    return np.sum([g(x_i, y_j) * f_XY(x_i, y_j)\n",
        "                   for x_i in x_set for y_j in y_set])"
      ]
    },
    {
      "cell_type": "code",
      "execution_count": 36,
      "metadata": {
        "ExecuteTime": {
          "end_time": "2018-08-06T11:25:18.171317Z",
          "start_time": "2018-08-06T11:25:18.166922Z"
        },
        "colab": {
          "base_uri": "https://localhost:8080/"
        },
        "id": "B2tUpj9gawbJ",
        "outputId": "4cfd9fc3-5aef-41cf-852c-c548aea85f9c"
      },
      "outputs": [
        {
          "output_type": "execute_result",
          "data": {
            "text/plain": [
              "8.667"
            ]
          },
          "metadata": {},
          "execution_count": 36
        }
      ],
      "source": [
        "mean_X = E(XY, lambda x, y: x)  # x_set, y_set 중 x_set만 사용, sum(x_i * f_XY(x_i, y_j)) -> x_set의 기댓값\n",
        "mean_X"
      ]
    },
    {
      "cell_type": "code",
      "execution_count": 37,
      "metadata": {
        "ExecuteTime": {
          "end_time": "2018-08-06T11:25:18.176800Z",
          "start_time": "2018-08-06T11:25:18.172606Z"
        },
        "colab": {
          "base_uri": "https://localhost:8080/"
        },
        "id": "VqNJlrUkawbJ",
        "outputId": "64e17d5e-f90e-43c1-e638-ad51162c7bd3"
      },
      "outputs": [
        {
          "output_type": "execute_result",
          "data": {
            "text/plain": [
              "4.333"
            ]
          },
          "metadata": {},
          "execution_count": 37
        }
      ],
      "source": [
        "mean_Y = E(XY, lambda x, y: y)  # x_set, y_set 중 y_set만 사용, sum(y_j * f_XY(x_i, y_j)) -> y_set의 기댓값\n",
        "mean_Y"
      ]
    },
    {
      "cell_type": "markdown",
      "source": [
        "![스크린샷 2022-04-20 오후 3 43 17](https://user-images.githubusercontent.com/76269316/164166717-2842764d-6928-47ea-968d-1d258084c6c3.png)\n"
      ],
      "metadata": {
        "id": "xykrsiNStdBs"
      }
    },
    {
      "cell_type": "code",
      "execution_count": 38,
      "metadata": {
        "ExecuteTime": {
          "end_time": "2018-08-06T11:25:18.181411Z",
          "start_time": "2018-08-06T11:25:18.179270Z"
        },
        "id": "U_-kcmhmawbJ"
      },
      "outputs": [],
      "source": [
        "a, b = 2, 3"
      ]
    },
    {
      "cell_type": "code",
      "execution_count": 39,
      "metadata": {
        "ExecuteTime": {
          "end_time": "2018-08-06T11:25:18.188112Z",
          "start_time": "2018-08-06T11:25:18.182684Z"
        },
        "colab": {
          "base_uri": "https://localhost:8080/"
        },
        "id": "rfoZbK3oawbJ",
        "outputId": "2121f84b-77de-4f1e-f386-bab16168391e"
      },
      "outputs": [
        {
          "output_type": "execute_result",
          "data": {
            "text/plain": [
              "30.333"
            ]
          },
          "metadata": {},
          "execution_count": 39
        }
      ],
      "source": [
        "E(XY, lambda x, y: a*x + b*y)"
      ]
    },
    {
      "cell_type": "code",
      "execution_count": 40,
      "metadata": {
        "ExecuteTime": {
          "end_time": "2018-08-06T11:25:18.192651Z",
          "start_time": "2018-08-06T11:25:18.189335Z"
        },
        "colab": {
          "base_uri": "https://localhost:8080/"
        },
        "id": "eXO7ETc0awbJ",
        "outputId": "1c4a2cd2-f36f-4a30-b81c-974c79b264b6"
      },
      "outputs": [
        {
          "output_type": "execute_result",
          "data": {
            "text/plain": [
              "30.333"
            ]
          },
          "metadata": {},
          "execution_count": 40
        }
      ],
      "source": [
        "a * mean_X + b * mean_Y"
      ]
    },
    {
      "cell_type": "markdown",
      "source": [
        "분산 <br>\n",
        "![스크린샷 2022-04-20 오후 3 53 29](https://user-images.githubusercontent.com/76269316/164168351-bccd49f2-39d1-412f-8dee-0807434da3b5.png)\n"
      ],
      "metadata": {
        "id": "lSqyPyB0vyXC"
      }
    },
    {
      "cell_type": "code",
      "execution_count": 41,
      "metadata": {
        "ExecuteTime": {
          "end_time": "2018-08-06T11:25:18.198072Z",
          "start_time": "2018-08-06T11:25:18.193879Z"
        },
        "colab": {
          "base_uri": "https://localhost:8080/"
        },
        "id": "XY_P2KCLawbJ",
        "outputId": "08294cd4-533c-4a68-dac6-7c448ce71bef"
      },
      "outputs": [
        {
          "output_type": "execute_result",
          "data": {
            "text/plain": [
              "4.444"
            ]
          },
          "metadata": {},
          "execution_count": 41
        }
      ],
      "source": [
        "np.sum([(x_i-mean_X)**2 * f_XY(x_i, y_j)\n",
        "       for x_i in x_set for y_j in y_set])"
      ]
    },
    {
      "cell_type": "markdown",
      "source": [
        "\n",
        "\n",
        "```\n",
        "def E(X, g=lambda x: x):\n",
        "    x_set, f = X\n",
        "    return np.sum([g(x_k) * f(x_k) for x_k in x_set])\n",
        "```\n",
        "\n"
      ],
      "metadata": {
        "id": "0i1paqeEwTvF"
      }
    },
    {
      "cell_type": "code",
      "execution_count": 42,
      "metadata": {
        "ExecuteTime": {
          "end_time": "2018-08-06T11:25:18.202487Z",
          "start_time": "2018-08-06T11:25:18.199151Z"
        },
        "id": "SIDS3uoHawbJ"
      },
      "outputs": [],
      "source": [
        "def V(XY, g):\n",
        "    x_set, y_set, f_XY = XY\n",
        "    mean = E(XY, g)\n",
        "    return np.sum([(g(x_i, y_j)-mean)**2 * f_XY(x_i, y_j)\n",
        "                   for x_i in x_set for y_j in y_set])"
      ]
    },
    {
      "cell_type": "code",
      "execution_count": 43,
      "metadata": {
        "ExecuteTime": {
          "end_time": "2018-08-06T11:25:18.208121Z",
          "start_time": "2018-08-06T11:25:18.203578Z"
        },
        "colab": {
          "base_uri": "https://localhost:8080/"
        },
        "id": "af-v3jNjawbJ",
        "outputId": "bf6e280f-1e87-49b0-b0bc-d261f3282ad6"
      },
      "outputs": [
        {
          "output_type": "execute_result",
          "data": {
            "text/plain": [
              "4.444"
            ]
          },
          "metadata": {},
          "execution_count": 43
        }
      ],
      "source": [
        "var_X = V(XY, g=lambda x, y: x)\n",
        "var_X"
      ]
    },
    {
      "cell_type": "code",
      "execution_count": 44,
      "metadata": {
        "ExecuteTime": {
          "end_time": "2018-08-06T11:25:18.214829Z",
          "start_time": "2018-08-06T11:25:18.209153Z"
        },
        "colab": {
          "base_uri": "https://localhost:8080/"
        },
        "id": "UGW-xJA8awbJ",
        "outputId": "159b2823-21b0-4890-93f8-666e0eee7d8b"
      },
      "outputs": [
        {
          "output_type": "execute_result",
          "data": {
            "text/plain": [
              "2.222"
            ]
          },
          "metadata": {},
          "execution_count": 44
        }
      ],
      "source": [
        "var_Y = V(XY, g=lambda x, y: y)\n",
        "var_Y"
      ]
    },
    {
      "cell_type": "markdown",
      "source": [
        "공분산 <br>\n",
        "![스크린샷 2022-04-20 오후 3 54 47](https://user-images.githubusercontent.com/76269316/164168528-f0c09b66-013b-4888-ac5e-111e045078d3.png)"
      ],
      "metadata": {
        "id": "QAxOJqKuwD5a"
      }
    },
    {
      "cell_type": "markdown",
      "source": [
        "\n",
        "\n",
        "```\n",
        "def E(X, g=lambda x: x):\n",
        "    x_set, f = X\n",
        "    return np.sum([g(x_k) * f(x_k) for x_k in x_set])\n",
        "```\n",
        "\n"
      ],
      "metadata": {
        "id": "8k7y0e7swVGo"
      }
    },
    {
      "cell_type": "code",
      "execution_count": 45,
      "metadata": {
        "ExecuteTime": {
          "end_time": "2018-08-06T11:25:18.220141Z",
          "start_time": "2018-08-06T11:25:18.215853Z"
        },
        "id": "zjiB_UlNawbK"
      },
      "outputs": [],
      "source": [
        "def Cov(XY):\n",
        "    x_set, y_set, f_XY = XY\n",
        "    mean_X = E(XY, lambda x, y: x)\n",
        "    mean_Y = E(XY, lambda x, y: y)\n",
        "    return np.sum([(x_i-mean_X) * (y_j-mean_Y) * f_XY(x_i, y_j)\n",
        "                    for x_i in x_set for y_j in y_set])"
      ]
    },
    {
      "cell_type": "code",
      "execution_count": 46,
      "metadata": {
        "ExecuteTime": {
          "end_time": "2018-08-06T11:25:18.226352Z",
          "start_time": "2018-08-06T11:25:18.221226Z"
        },
        "colab": {
          "base_uri": "https://localhost:8080/"
        },
        "id": "XLcJ07REawbK",
        "outputId": "76a6d28a-1303-43c7-c16a-a90f8389afc5"
      },
      "outputs": [
        {
          "output_type": "execute_result",
          "data": {
            "text/plain": [
              "2.222"
            ]
          },
          "metadata": {},
          "execution_count": 46
        }
      ],
      "source": [
        "cov_xy = Cov(XY)\n",
        "cov_xy"
      ]
    },
    {
      "cell_type": "markdown",
      "source": [
        "![스크린샷 2022-04-20 오후 3 57 00](https://user-images.githubusercontent.com/76269316/164168898-d6a89261-bcfe-42f6-9c78-4cc31002e45e.png)\n"
      ],
      "metadata": {
        "id": "YOcv21SUwwuI"
      }
    },
    {
      "cell_type": "code",
      "execution_count": 47,
      "metadata": {
        "ExecuteTime": {
          "end_time": "2018-08-06T11:25:18.232830Z",
          "start_time": "2018-08-06T11:25:18.227964Z"
        },
        "colab": {
          "base_uri": "https://localhost:8080/"
        },
        "id": "GDuxSCpfawbK",
        "outputId": "99289970-0be5-4174-903d-29f433aa9ac1"
      },
      "outputs": [
        {
          "output_type": "execute_result",
          "data": {
            "text/plain": [
              "64.444"
            ]
          },
          "metadata": {},
          "execution_count": 47
        }
      ],
      "source": [
        "V(XY, lambda x, y: a*x + b*y)"
      ]
    },
    {
      "cell_type": "code",
      "execution_count": 48,
      "metadata": {
        "ExecuteTime": {
          "end_time": "2018-08-06T11:25:18.238309Z",
          "start_time": "2018-08-06T11:25:18.234241Z"
        },
        "colab": {
          "base_uri": "https://localhost:8080/"
        },
        "id": "FJlICiJOawbK",
        "outputId": "ed476975-601d-432a-ead1-7d6837d41704"
      },
      "outputs": [
        {
          "output_type": "execute_result",
          "data": {
            "text/plain": [
              "64.444"
            ]
          },
          "metadata": {},
          "execution_count": 48
        }
      ],
      "source": [
        "a**2 * var_X + b**2 * var_Y + 2*a*b * cov_xy"
      ]
    },
    {
      "cell_type": "markdown",
      "source": [
        "상관계수 <br>\n",
        "![스크린샷 2022-04-20 오후 3 58 07](https://user-images.githubusercontent.com/76269316/164169091-ef8aee62-2a38-4ef1-a506-1af1940379d8.png)"
      ],
      "metadata": {
        "id": "Qkqk4x3YwrS2"
      }
    },
    {
      "cell_type": "code",
      "execution_count": 49,
      "metadata": {
        "ExecuteTime": {
          "end_time": "2018-08-06T11:25:18.243046Z",
          "start_time": "2018-08-06T11:25:18.239669Z"
        },
        "colab": {
          "base_uri": "https://localhost:8080/"
        },
        "id": "mkN84j2NawbK",
        "outputId": "1ea66d01-11ae-4c6f-c4af-8a79264eef4f"
      },
      "outputs": [
        {
          "output_type": "execute_result",
          "data": {
            "text/plain": [
              "0.707"
            ]
          },
          "metadata": {},
          "execution_count": 49
        }
      ],
      "source": [
        "cov_xy / np.sqrt(var_X * var_Y)"
      ]
    }
  ],
  "metadata": {
    "kernelspec": {
      "display_name": "Python 3",
      "language": "python",
      "name": "python3"
    },
    "language_info": {
      "codemirror_mode": {
        "name": "ipython",
        "version": 3
      },
      "file_extension": ".py",
      "mimetype": "text/x-python",
      "name": "python",
      "nbconvert_exporter": "python",
      "pygments_lexer": "ipython3",
      "version": "3.7.3"
    },
    "toc": {
      "nav_menu": {},
      "number_sections": true,
      "sideBar": true,
      "skip_h1_title": false,
      "toc_cell": false,
      "toc_position": {
        "height": "911px",
        "left": "0px",
        "right": "1493px",
        "top": "107px",
        "width": "212px"
      },
      "toc_section_display": "block",
      "toc_window_display": false
    },
    "colab": {
      "name": "chap05.ipynb",
      "provenance": [],
      "collapsed_sections": []
    }
  },
  "nbformat": 4,
  "nbformat_minor": 0
}